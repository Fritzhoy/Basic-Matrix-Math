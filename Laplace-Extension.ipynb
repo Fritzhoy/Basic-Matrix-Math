{
 "cells": [
  {
   "cell_type": "code",
   "execution_count": null,
   "id": "f39200a9-2d52-44d7-888f-82c7a09d188f",
   "metadata": {},
   "outputs": [],
   "source": [
    "#Coding a function that takes a square matrix of any order and returns its determinant"
   ]
  },
  {
   "cell_type": "code",
   "execution_count": 1,
   "id": "94489c5b-6987-4042-b65c-6121bee0aa34",
   "metadata": {},
   "outputs": [],
   "source": [
    "import numpy as np"
   ]
  },
  {
   "cell_type": "code",
   "execution_count": 3,
   "id": "afb1ce6f-f14f-4428-b852-2ed9879f498b",
   "metadata": {},
   "outputs": [
    {
     "data": {
      "text/plain": [
       "array([[4, 0],\n",
       "       [4, 5]])"
      ]
     },
     "execution_count": 3,
     "metadata": {},
     "output_type": "execute_result"
    }
   ],
   "source": [
    "M2 = np.random.randint(10, size=(2,2))\n",
    "M2"
   ]
  },
  {
   "cell_type": "code",
   "execution_count": 5,
   "id": "30366a1e-2df5-4ca0-a17c-9b59e6cc2eb6",
   "metadata": {},
   "outputs": [
    {
     "data": {
      "text/plain": [
       "array([[8, 9, 9],\n",
       "       [5, 3, 6],\n",
       "       [7, 1, 8]])"
      ]
     },
     "execution_count": 5,
     "metadata": {},
     "output_type": "execute_result"
    }
   ],
   "source": [
    "M3 = np.random.randint(10, size=(3,3))\n",
    "M3"
   ]
  },
  {
   "cell_type": "code",
   "execution_count": 40,
   "id": "cc3e498f-ed05-480b-9c05-e02b1e5a331e",
   "metadata": {},
   "outputs": [
    {
     "data": {
      "text/plain": [
       "array([[9, 2, 4, 4],\n",
       "       [9, 9, 1, 4],\n",
       "       [2, 0, 8, 6],\n",
       "       [6, 3, 3, 1]])"
      ]
     },
     "execution_count": 40,
     "metadata": {},
     "output_type": "execute_result"
    }
   ],
   "source": [
    "M4 = np.random.randint(10, size=(4,4))\n",
    "M4"
   ]
  },
  {
   "cell_type": "code",
   "execution_count": 42,
   "id": "360f6802-bff7-4518-951b-20869c6ef955",
   "metadata": {},
   "outputs": [
    {
     "data": {
      "text/plain": [
       "array([[1, 4, 4, 1, 9],\n",
       "       [9, 4, 1, 3, 0],\n",
       "       [8, 2, 5, 3, 7],\n",
       "       [2, 6, 7, 0, 3],\n",
       "       [9, 7, 2, 6, 2]])"
      ]
     },
     "execution_count": 42,
     "metadata": {},
     "output_type": "execute_result"
    }
   ],
   "source": [
    "M5 = np.random.randint(10, size=(5,5))\n",
    "M5\n"
   ]
  },
  {
   "cell_type": "code",
   "execution_count": 44,
   "id": "326515b0-6266-49fd-bb79-e3e28c958e71",
   "metadata": {},
   "outputs": [],
   "source": [
    "#Matriz é uma matriz quadrada ?\n",
    "def matriz_quadrada(matriz):\n",
    "    return(matriz.shape[0]== matriz.shape[1])"
   ]
  },
  {
   "cell_type": "code",
   "execution_count": 46,
   "id": "ed1ce553-73ec-4aa5-ae46-3cd099e7d6e8",
   "metadata": {},
   "outputs": [],
   "source": [
    "def minor(matriz, row, col):\n",
    "    #Deleta a linha \"i\" da matriz conforme entrada na função determinante e armazena resultada na minor_matriz \n",
    "    minor_matriz = np.delete(matriz, row, 0)\n",
    "    #print(matriz, minor_matriz)\n",
    "        \n",
    "    #Remove a coluna \"J\" conforme entrada na função determinante\n",
    "    minor_matriz = np.delete(minor_matriz, col, 1)\n",
    "        \n",
    "    #print(\"Matriz Minor:\")\n",
    "    #print(minor_matriz)\n",
    "        \n",
    "    #retorna matriz minor\n",
    "    return minor_matriz\n",
    "\n",
    "def determinante(matriz):\n",
    "    \n",
    "    if matriz_quadrada(matriz):\n",
    "        (row,col) = matriz.shape\n",
    "        \n",
    "        # Determinante Matriz quadrada 2x2 -> produto das diagonais\n",
    "        if (row, col) == (2, 2):\n",
    "            return matriz[0][0] * matriz[1][1] - matriz[0][1] * matriz[1][0]\n",
    "            \n",
    "         # Determinante Matriz quadrada 3 x 3 Regra de Sarrus    \n",
    "        elif (row, col) == (3, 3):\n",
    "            return (((matriz[0][0]*matriz[1][1]*matriz[2][2]) \n",
    "                     + (matriz[0][1]*matriz[1][2]*matriz[2][0]) \n",
    "                     + (matriz[0][2]*matriz[1][0]*matriz[2][1]))\n",
    "                     -((matriz[0][2]*matriz[1][1]*matriz[2][0])\n",
    "                      + (matriz[0][0]*matriz[1][2]*matriz[2][1])\n",
    "                      + (matriz[0][1]*matriz[1][0]*matriz[2][2])))\n",
    "            \n",
    "        #Determinante Matriz quadrada >= 4x4 usando expansão de Laplace\n",
    "        elif (row, col) >= (4,4):\n",
    "            det = 0\n",
    "            #Encontrar menor elemento da Matriz\n",
    "            min_element = np.argmin(matriz)\n",
    "            #Retorna o indice (linha, coluna) do menor elemento\n",
    "            (i_min, j_min) = np.unravel_index(min_element, matriz.shape)\n",
    "            \n",
    "            for j in range(len(matriz)):\n",
    "                #usa a linha do menor elemento para determinar matriz minor\n",
    "                cofactor = ((-1)**(i_min +j)) * determinante(minor(matriz, i_min, j))\n",
    "                \n",
    "                #multiplicação do elemento[i_min][j] da matriz inicial pelo seu cofator\n",
    "                det += matriz[i_min][j] * cofactor\n",
    "            return det\n",
    "    return \"A matriz não é quadrada\"                                 "
   ]
  },
  {
   "cell_type": "code",
   "execution_count": 48,
   "id": "afafc124",
   "metadata": {},
   "outputs": [
    {
     "name": "stdout",
     "output_type": "stream",
     "text": [
      "Determinante Matriz Quadrada 2x2 produto das diagonais: 20\n",
      "Determinante Matriz Quadrada 2x2 usando linalg: 20\n"
     ]
    }
   ],
   "source": [
    "## Determinante Matriz 2x2\n",
    "print(\"Determinante Matriz Quadrada 2x2 produto das diagonais:\", determinante(M2))\n",
    "print(\"Determinante Matriz Quadrada 2x2 usando linalg:\", round(np.linalg.det(M2)))"
   ]
  },
  {
   "cell_type": "code",
   "execution_count": 50,
   "id": "061775a1-ddfb-4781-b5f8-fc7bbe876664",
   "metadata": {
    "scrolled": true
   },
   "outputs": [
    {
     "name": "stdout",
     "output_type": "stream",
     "text": [
      "Determinante Matriz Quadrada 3x3 Regra de Sarrus: 18\n",
      "Determinante Matriz Quadrada 3x3 usando linalg: 18\n"
     ]
    }
   ],
   "source": [
    "## Determinante Matriz 3x3\n",
    "print(\"Determinante Matriz Quadrada 3x3 Regra de Sarrus:\", determinante(M3))\n",
    "print(\"Determinante Matriz Quadrada 3x3 usando linalg:\", round(np.linalg.det(M3)))"
   ]
  },
  {
   "cell_type": "code",
   "execution_count": 52,
   "id": "d6ba4643-ce9e-496c-b09b-fb08727ccb10",
   "metadata": {},
   "outputs": [
    {
     "name": "stdout",
     "output_type": "stream",
     "text": [
      "Determinante Matriz Quadrada 4x4 Laplace: -1064\n",
      "Determinante Matriz Quadrada 4x4 usando linalg: -1064\n"
     ]
    }
   ],
   "source": [
    "#Determinante Matriz 4x4\n",
    "print(\"Determinante Matriz Quadrada 4x4 Laplace:\", determinante(M4))\n",
    "print(\"Determinante Matriz Quadrada 4x4 usando linalg:\", round(np.linalg.det(M4)))"
   ]
  },
  {
   "cell_type": "code",
   "execution_count": 54,
   "id": "c034c682-840f-4663-a283-2c1e839a4ec9",
   "metadata": {},
   "outputs": [
    {
     "name": "stdout",
     "output_type": "stream",
     "text": [
      "Determinante Matriz Quadrada 5x5 Laplace: -6498\n",
      "Determinante Matriz Quadrada 5x5 usando linalg: -6498\n"
     ]
    }
   ],
   "source": [
    "#Determinante Matrix 5x5\n",
    "print(\"Determinante Matriz Quadrada 5x5 Laplace:\", determinante(M5))\n",
    "print(\"Determinante Matriz Quadrada 5x5 usando linalg:\", round(np.linalg.det(M5)))"
   ]
  },
  {
   "cell_type": "code",
   "execution_count": null,
   "id": "d29fee2d-93d8-400f-bbd3-407790b371b3",
   "metadata": {},
   "outputs": [],
   "source": []
  },
  {
   "cell_type": "code",
   "execution_count": null,
   "id": "e4508372-b45d-4963-af98-2c247889e09e",
   "metadata": {},
   "outputs": [],
   "source": []
  },
  {
   "cell_type": "code",
   "execution_count": null,
   "id": "77a00f94-4fc3-4587-80fb-5f32af109bd1",
   "metadata": {},
   "outputs": [],
   "source": []
  },
  {
   "cell_type": "code",
   "execution_count": null,
   "id": "d5e0838e-21a3-4e65-9c69-e20678a51a18",
   "metadata": {},
   "outputs": [],
   "source": []
  },
  {
   "cell_type": "code",
   "execution_count": null,
   "id": "e84aab4f-64ff-4b5e-81ed-6a635c73a197",
   "metadata": {},
   "outputs": [],
   "source": []
  },
  {
   "cell_type": "code",
   "execution_count": null,
   "id": "a4caa2d4-9c6d-47ef-97bd-576e7d245c5a",
   "metadata": {},
   "outputs": [],
   "source": []
  },
  {
   "cell_type": "code",
   "execution_count": null,
   "id": "d576d0c1-d055-4870-9fb2-2eb3ab84b18c",
   "metadata": {},
   "outputs": [],
   "source": []
  }
 ],
 "metadata": {
  "kernelspec": {
   "display_name": "Python 3 (ipykernel)",
   "language": "python",
   "name": "python3"
  },
  "language_info": {
   "codemirror_mode": {
    "name": "ipython",
    "version": 3
   },
   "file_extension": ".py",
   "mimetype": "text/x-python",
   "name": "python",
   "nbconvert_exporter": "python",
   "pygments_lexer": "ipython3",
   "version": "3.12.7"
  }
 },
 "nbformat": 4,
 "nbformat_minor": 5
}
