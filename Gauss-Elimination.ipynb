{
 "cells": [
  {
   "cell_type": "markdown",
   "id": "de70b885-1868-4f83-ba39-ea67304a655b",
   "metadata": {},
   "source": [
    "Função que retorna a solução de um sistema linear de equações usando o método Eliminação de Gauss"
   ]
  },
  {
   "cell_type": "code",
   "execution_count": 75,
   "id": "d70ca78e-e1f4-4973-99f5-aba2e2971181",
   "metadata": {},
   "outputs": [],
   "source": [
    "import numpy as np"
   ]
  },
  {
   "cell_type": "code",
   "execution_count": 77,
   "id": "84e318ec-ff2d-4b0d-b359-fe02c7f45a54",
   "metadata": {},
   "outputs": [
    {
     "data": {
      "text/plain": [
       "array([[ 4,  3,  2],\n",
       "       [-2,  2,  3],\n",
       "       [ 3, -5,  2]])"
      ]
     },
     "execution_count": 77,
     "metadata": {},
     "output_type": "execute_result"
    }
   ],
   "source": [
    "#Coeficientes\n",
    "A = np.array([[4,3,2], [-2,2,3], [3,-5,2]])\n",
    "A  "
   ]
  },
  {
   "cell_type": "code",
   "execution_count": 79,
   "id": "add9ca93-620b-4dfb-9f55-9a81570082fb",
   "metadata": {},
   "outputs": [
    {
     "data": {
      "text/plain": [
       "array([ 25, -10,  -4])"
      ]
     },
     "execution_count": 79,
     "metadata": {},
     "output_type": "execute_result"
    }
   ],
   "source": [
    "#Constantes\n",
    "B = np.array([25,-10,-4])\n",
    "B"
   ]
  },
  {
   "cell_type": "code",
   "execution_count": 99,
   "id": "2737d6ef-f0c9-4569-89fb-379531e8623a",
   "metadata": {},
   "outputs": [],
   "source": [
    "def gauss_elimination(M1,M2):\n",
    "\n",
    "    #Calculo linha 2 em x\n",
    "    pivot1 = M1[1][0]/M1[0][0]\n",
    "    M2[1] = M2[1] - M2[0]*pivot1\n",
    "    for j in range(M1.shape[1]):\n",
    "        M1[1][j] = M1[1][j] - M1[0][j]*pivot1\n",
    "        \n",
    "    #calculo linha 3 em x    \n",
    "    pivot2 = M1[2][0]/M1[0][0]\n",
    "    M2[2] = M2[2] - M2[0]*pivot2\n",
    "    for j in range(M1.shape[1]):\n",
    "        M1[2][j] = M1[2][j] - M1[0][j]*pivot2\n",
    "    print(M1,M2)\n",
    "\n",
    "    #calculo linha 3 em y; usando para calculo do pivot a linha 2;\n",
    "    pivot3 = M1[2][1]/M1[1][1]\n",
    "    M2[2] = M2[2] - M2[1]*pivot3\n",
    "    for j in range(M1.shape[1]):\n",
    "        M1[2][j] = M1[2][j] - M1[1][j]*pivot3\n",
    "    print(M1,M2)\n",
    "       \n",
    "    z = M2[2]/M1[2][2]\n",
    "    y = (M2[1] - M1[1][2]*z)/M1[1][1]\n",
    "    x = (M2[0] - M1[0][2]*z - M1[0][1]*y)/M1[0][0]\n",
    "\n",
    "    print(\"x = {}, y = {}, z = {}\".format(x,y,z))\n",
    "    \n",
    "    return np.array([x,y,z])                 "
   ]
  },
  {
   "cell_type": "code",
   "execution_count": 101,
   "id": "d7662044-5659-4e51-8899-fbb551fdc5c0",
   "metadata": {},
   "outputs": [
    {
     "name": "stdout",
     "output_type": "stream",
     "text": [
      "[[4 3 2]\n",
      " [0 3 4]\n",
      " [0 0 9]] [ 25   2 -17]\n",
      "[[4 3 2]\n",
      " [0 3 4]\n",
      " [0 0 9]] [ 25   2 -17]\n",
      "x = 4.805555555555555, y = 3.185185185185185, z = -1.8888888888888888\n"
     ]
    },
    {
     "data": {
      "text/plain": [
       "array([ 4.80555556,  3.18518519, -1.88888889])"
      ]
     },
     "execution_count": 101,
     "metadata": {},
     "output_type": "execute_result"
    }
   ],
   "source": [
    "gauss_elimination(A,B)"
   ]
  },
  {
   "cell_type": "code",
   "execution_count": 85,
   "id": "c8764b64-5cbb-42ee-ba78-0be82ee1675f",
   "metadata": {},
   "outputs": [
    {
     "data": {
      "text/plain": [
       "array([ 4.80555556,  3.18518519, -1.88888889])"
      ]
     },
     "execution_count": 85,
     "metadata": {},
     "output_type": "execute_result"
    }
   ],
   "source": [
    "result = np.linalg.solve(A,B)\n",
    "result"
   ]
  },
  {
   "cell_type": "markdown",
   "id": "5a7f17e5-390d-4f40-b1de-a7008771d965",
   "metadata": {},
   "source": []
  }
 ],
 "metadata": {
  "kernelspec": {
   "display_name": "Python 3 (ipykernel)",
   "language": "python",
   "name": "python3"
  },
  "language_info": {
   "codemirror_mode": {
    "name": "ipython",
    "version": 3
   },
   "file_extension": ".py",
   "mimetype": "text/x-python",
   "name": "python",
   "nbconvert_exporter": "python",
   "pygments_lexer": "ipython3",
   "version": "3.12.7"
  }
 },
 "nbformat": 4,
 "nbformat_minor": 5
}
