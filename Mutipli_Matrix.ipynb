{
 "cells": [
  {
   "cell_type": "code",
   "execution_count": 1,
   "id": "bc0df2d4",
   "metadata": {},
   "outputs": [],
   "source": [
    "# Funçao Multiplição \n",
    "# 1 checar se essas matrizes são multiplicaveis \n",
    "# Checar se o número de colunas de A é igual ao número de linhas de B \n",
    "# Criar um matriz com zeros usando o número de linhas de A x Numero de colunas de B\n",
    "# Comparar resultados com a biblioteca A@B"
   ]
  },
  {
   "cell_type": "code",
   "execution_count": 2,
   "id": "83a28a5b",
   "metadata": {},
   "outputs": [],
   "source": [
    "import numpy as np"
   ]
  },
  {
   "cell_type": "code",
   "execution_count": 3,
   "id": "f9738764",
   "metadata": {},
   "outputs": [
    {
     "name": "stdout",
     "output_type": "stream",
     "text": [
      "Matriz A:\n",
      " [[7 2 4]\n",
      " [8 7 2]\n",
      " [9 6 5]]\n"
     ]
    }
   ],
   "source": [
    "# Matriz A 2x3\n",
    "A = np.random.randint(10, size=(4,5))\n",
    "print(\"Matriz A:\\n\", A)"
   ]
  },
  {
   "cell_type": "code",
   "execution_count": 17,
   "id": "64e4a87c",
   "metadata": {},
   "outputs": [
    {
     "name": "stdout",
     "output_type": "stream",
     "text": [
      "Matriz B:\n",
      " [[3 7 2 6 0]\n",
      " [8 5 3 2 0]\n",
      " [6 2 7 4 8]]\n"
     ]
    }
   ],
   "source": [
    "B = np.random.randint(10, size=(3,5))\n",
    "print(\"Matriz B:\\n\", B)"
   ]
  },
  {
   "cell_type": "code",
   "execution_count": 18,
   "id": "98fa3d22",
   "metadata": {},
   "outputs": [],
   "source": [
    "#Multiplicação entre as matrizes é valida A(NxM) B(KxJ): M = K ?\n",
    "def mult_is_valid(M1, M2):\n",
    "    return(M1.shape[1]== M2.shape[0])"
   ]
  },
  {
   "cell_type": "code",
   "execution_count": 19,
   "id": "546703cf",
   "metadata": {},
   "outputs": [
    {
     "data": {
      "text/plain": [
       "True"
      ]
     },
     "execution_count": 19,
     "metadata": {},
     "output_type": "execute_result"
    }
   ],
   "source": [
    "mult_is_valid(A,B)"
   ]
  },
  {
   "cell_type": "code",
   "execution_count": 20,
   "id": "29d2999e",
   "metadata": {},
   "outputs": [],
   "source": [
    "# Element perspective\n",
    "def matmul_element(M1,M2):\n",
    "    if mult_is_valid(M1,M2):\n",
    "        #criar matriz de zeros (NxJ)\n",
    "        M3= np.zeros((M1.shape[0],M2.shape[1]))\n",
    "        #iteração i = linhas M1\n",
    "        for i in range(M1.shape[0]):\n",
    "            # iteração j = colunas M2\n",
    "            for j in range(M2.shape[1]):\n",
    "                # Cada elemento da M3[i,j] recebe o produto escalar do vetor linha i de M1 e da coluna j M2\n",
    "                M3[i,j] = np.dot(M1[i,:], M2[:,j])\n",
    "        return M3\n",
    "    return 'A multiplicação não é valida'"
   ]
  },
  {
   "cell_type": "code",
   "execution_count": 21,
   "id": "8c7d4e96",
   "metadata": {},
   "outputs": [],
   "source": [
    "# layer perspective\n",
    "def matmul_layer(M1,M2):\n",
    "    #validar multiplicação de matriz\n",
    "    if mult_is_valid(M1,M2):    \n",
    "        #criar matriz de zeros (NxJ)\n",
    "        M3=np.zeros((M1.shape[0],M2.shape[1]))\n",
    "        #iteração na coluna i na matriz M1\n",
    "        for i in range(M1.shape[1]):\n",
    "            #função outer multiplica a coluna inteira [:,i] com a linha inteira [i,:] da M2\n",
    "            layer = np.outer(M1[:,i], M2[i,:]) \n",
    "            # Valor é acumulado na M3, \n",
    "            # que nas próximas iterações irá somar a nova camada as demais camadas ja criadas\n",
    "            M3 += layer\n",
    "        return M3    \n",
    "    return 'A multiplicação não é valida'"
   ]
  },
  {
   "cell_type": "code",
   "execution_count": 22,
   "id": "7350bd73",
   "metadata": {},
   "outputs": [],
   "source": [
    "#column perspective\n",
    "def matmul_column(M1,M2):\n",
    "    #validar multiplicação de matriz\n",
    "    if mult_is_valid(M1,M2):    \n",
    "        #criar matriz de zeros (NxJ)\n",
    "        M3=np.zeros((M1.shape[0],M2.shape[1]))\n",
    "        #iteração nas colunas na matriz M2, número de iterações conforme o número de colunas de M2\n",
    "        for j in range(M2.shape[1]):\n",
    "            #iteração nas colunas da matriz M1,\n",
    "            for i in range(M1.shape[1]):\n",
    "                #coluna é resultado da multiplicaçao da coluna i de M1 com o elemento ij de M2\n",
    "                #O elemento j em M2[i,j] se mantem constante e iteramos o i para pegar elemento a elemento da linha j de M2\n",
    "                #Número de colunas de M3 deve ser igual ao M2\n",
    "                M3[:,j] += M1[:,i]*M2[i,j]\n",
    "        return M3    \n",
    "    return 'A multiplicação não é valida'"
   ]
  },
  {
   "cell_type": "code",
   "execution_count": 23,
   "id": "92743799",
   "metadata": {},
   "outputs": [],
   "source": [
    "#Row perspective\n",
    "def matmul_row(M1,M2):\n",
    "    #validar multiplicação de matriz\n",
    "    if mult_is_valid(M1,M2):    \n",
    "        #criar matriz de zeros (NxJ)\n",
    "        M3=np.zeros((M1.shape[0],M2.shape[1]))\n",
    "        #iteração nas linhas na matriz M1, número de iterações conforme o número de linhas de M1\n",
    "        for i in range(M1.shape[0]):\n",
    "            #iteração nas linhas da matriz M2, pegando elemento a elemento de M1 utilizando como parametro fixo i\n",
    "            for j in range(M2.shape[0]):\n",
    "                #O número de linhas da M3 deve ser igual ao M1\n",
    "                #Linha de M3 é resultado da multiplicaçao do elemento M1[i,j] pela linha inteira j de M2\n",
    "                #Na M1 utilizando i como parametro constante e iteramos o j para pegar elemento a elemento da linha i de M1\n",
    "                M3[i,:] += M1[i,j]*M2[j,:]\n",
    "        return M3    \n",
    "    return 'A multiplicação não é valida'"
   ]
  },
  {
   "cell_type": "code",
   "execution_count": 24,
   "id": "661eb872",
   "metadata": {},
   "outputs": [],
   "source": [
    "def check_multi_func(M1, M2):\n",
    "    \n",
    "    # funçao multi_elemento\n",
    "    M_element = matmul_element(M1, M2)\n",
    "    M_layer = matmul_layer(M1,M2)\n",
    "    M_column= matmul_column(M1,M2)\n",
    "    M_row = matmul_row(M1,M2)\n",
    "    \n",
    "    # Calculo usando numpy multiplicação matriz \n",
    "    M_np = M1@M2\n",
    "    \n",
    "    if (np.allclose(M_element, M_np) and \n",
    "        np.allclose(M_layer, M_np) and \n",
    "        np.allclose(M_column, M_np) and \n",
    "        np.allclose(M_row, M_np)):\n",
    "        return print('Matriz de multiplicação iguais ao M1@M2')\n",
    "       \n",
    "    else:\n",
    "        return print('As matrizes não são iguais ao M1@M2')"
   ]
  },
  {
   "cell_type": "code",
   "execution_count": 25,
   "id": "c2a1e5d0",
   "metadata": {},
   "outputs": [
    {
     "name": "stdout",
     "output_type": "stream",
     "text": [
      "Matriz de multiplicação iguais ao M1@M2\n"
     ]
    }
   ],
   "source": [
    "check_multi_func(A,B)"
   ]
  },
  {
   "cell_type": "code",
   "execution_count": 27,
   "id": "d8b07b65",
   "metadata": {},
   "outputs": [
    {
     "name": "stdout",
     "output_type": "stream",
     "text": [
      "---------------\n",
      "Multiplicação elementos: \n",
      "[[ 61.  67.  48.  62.  32.]\n",
      " [ 92.  95.  51.  70.  16.]\n",
      " [105. 103.  71.  86.  40.]]\n",
      "---------------\n",
      "Multiplicação camadas: \n",
      "[[ 61.  67.  48.  62.  32.]\n",
      " [ 92.  95.  51.  70.  16.]\n",
      " [105. 103.  71.  86.  40.]]\n",
      "---------------\n",
      "Multiplicação colunas: \n",
      "[[ 61.  67.  48.  62.  32.]\n",
      " [ 92.  95.  51.  70.  16.]\n",
      " [105. 103.  71.  86.  40.]]\n",
      "---------------\n",
      "Multiplicação linhas: \n",
      "[[ 61.  67.  48.  62.  32.]\n",
      " [ 92.  95.  51.  70.  16.]\n",
      " [105. 103.  71.  86.  40.]]\n",
      "---------------\n",
      "Multiplicação usando numpy @:\n",
      "[[ 61.  67.  48.  62.  32.]\n",
      " [ 92.  95.  51.  70.  16.]\n",
      " [105. 103.  71.  86.  40.]]\n"
     ]
    }
   ],
   "source": [
    "print(\"---------------\")\n",
    "print(\"Multiplicação elementos: \")\n",
    "print(matmul_element(A,B))\n",
    "print(\"---------------\")\n",
    "print(\"Multiplicação camadas: \")\n",
    "print(matmul_layer(A,B))\n",
    "print(\"---------------\")\n",
    "print(\"Multiplicação colunas: \")\n",
    "print(matmul_column(A,B))\n",
    "print(\"---------------\")\n",
    "print(\"Multiplicação linhas: \")\n",
    "print(matmul_row(A,B))\n",
    "print(\"---------------\")\n",
    "print(\"Multiplicação usando numpy @:\")\n",
    "print(matmul_row(A,B))"
   ]
  }
 ],
 "metadata": {
  "kernelspec": {
   "display_name": "Python 3 (ipykernel)",
   "language": "python",
   "name": "python3"
  },
  "language_info": {
   "codemirror_mode": {
    "name": "ipython",
    "version": 3
   },
   "file_extension": ".py",
   "mimetype": "text/x-python",
   "name": "python",
   "nbconvert_exporter": "python",
   "pygments_lexer": "ipython3",
   "version": "3.12.7"
  }
 },
 "nbformat": 4,
 "nbformat_minor": 5
}
