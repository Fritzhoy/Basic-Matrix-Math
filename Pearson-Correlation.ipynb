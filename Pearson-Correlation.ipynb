{
 "cells": [
  {
   "cell_type": "code",
   "execution_count": 21,
   "id": "ba956098",
   "metadata": {},
   "outputs": [
    {
     "data": {
      "text/plain": [
       "array([50.51, 65.95, 15.14, 43.95, 88.31, 86.42, 31.83, 63.41,  8.55,\n",
       "       81.03, 26.75, 34.54, 96.33, 54.79, 87.3 , 19.45, 75.13, 99.4 ,\n",
       "        7.2 , 24.26, 14.75, 25.28, 31.49,  7.98, 89.96, 25.72, 92.54,\n",
       "       76.28, 17.16, 69.97, 77.52, 12.12, 12.62, 37.78,  6.61, 42.92,\n",
       "       47.04, 66.53, 57.46, 45.06, 22.64, 58.85, 45.59, 83.26, 69.84,\n",
       "       72.51, 57.51, 36.75, 28.15, 44.82, 57.68, 36.79, 14.19, 10.8 ,\n",
       "        4.19, 20.08, 40.86, 28.86, 17.88, 31.47, 71.27, 31.01, 91.65,\n",
       "       57.72, 13.84, 97.28, 88.22, 77.64, 15.81, 79.96, 70.15, 75.48,\n",
       "       71.89, 59.42, 34.59, 91.02, 98.67, 68.92, 35.83, 50.89, 56.66,\n",
       "        7.25,  8.77, 48.21, 56.83, 21.06, 26.83, 13.16, 91.38, 50.32,\n",
       "       27.69, 78.18, 95.4 , 29.01, 89.26, 76.42, 79.11, 52.63, 91.38,\n",
       "       14.73])"
      ]
     },
     "execution_count": 21,
     "metadata": {},
     "output_type": "execute_result"
    }
   ],
   "source": [
    "import numpy as np\n",
    "import matplotlib.pyplot as plt\n",
    "\n",
    "#Generate a vector A with 100 random real numbers between 0 and 100\n",
    "rng = np.random.default_rng(seed = 1)\n",
    "A = np.round(rng.random(100) + rng.integers(0,100,100), 2)\n",
    "A"
   ]
  },
  {
   "cell_type": "code",
   "execution_count": 22,
   "id": "062cdb70",
   "metadata": {},
   "outputs": [
    {
     "data": {
      "text/plain": [
       "array([0.96, 0.4 , 0.3 , 0.85, 0.12, 0.73, 0.19, 0.39, 0.23, 0.84, 0.39,\n",
       "       0.97, 0.63, 0.69, 0.52, 0.31, 0.4 , 0.94, 0.2 , 0.99, 0.76, 0.36,\n",
       "       0.64, 0.38, 0.38, 0.5 , 0.02, 0.49, 0.97, 0.29, 0.75, 0.44, 0.21,\n",
       "       0.91, 0.02, 0.3 , 1.  , 0.26, 0.85, 0.61, 0.81, 0.63, 0.36, 0.76,\n",
       "       0.03, 0.45, 0.37, 0.48, 0.13, 0.22, 0.56, 0.39, 0.79, 0.61, 0.86,\n",
       "       0.73, 0.6 , 0.29, 0.78, 0.25, 0.08, 0.96, 0.54, 0.77, 0.53, 0.61,\n",
       "       0.03, 0.19, 0.67, 0.57, 0.16, 0.95, 0.15, 0.51, 0.14, 0.72, 0.28,\n",
       "       0.13, 0.05, 0.17, 0.19, 0.54, 0.45, 0.96, 0.95, 0.8 , 0.67, 0.85,\n",
       "       0.94, 0.02, 0.12, 0.36, 0.09, 0.6 , 0.26, 0.26, 0.29, 0.1 , 0.74,\n",
       "       0.65])"
      ]
     },
     "execution_count": 22,
     "metadata": {},
     "output_type": "execute_result"
    }
   ],
   "source": [
    "#Generate a vector B with 100 random real numbers between 0 and 1\n",
    "B = np.round(rng.random(100),2) \n",
    "B"
   ]
  },
  {
   "cell_type": "code",
   "execution_count": 23,
   "id": "143474e7",
   "metadata": {},
   "outputs": [
    {
     "data": {
      "text/plain": [
       "array([ 7.43,  8.24,  5.58,  7.09,  9.42,  9.32,  6.45,  8.11,  5.23,\n",
       "        9.04,  6.18,  6.59,  9.84,  7.66,  9.36,  5.8 ,  8.73, 10.  ,\n",
       "        5.16,  6.05,  5.55,  6.11,  6.43,  5.2 ,  9.5 ,  6.13,  9.64,\n",
       "        8.79,  5.68,  8.45,  8.85,  5.42,  5.44,  6.76,  5.13,  7.03,\n",
       "        7.25,  8.27,  7.8 ,  7.15,  5.97,  7.87,  7.17,  9.15,  8.45,\n",
       "        8.59,  7.8 ,  6.71,  6.26,  7.13,  7.81,  6.71,  5.53,  5.35,\n",
       "        5.  ,  5.83,  6.93,  6.3 ,  5.72,  6.43,  8.52,  6.41,  9.59,\n",
       "        7.81,  5.51,  9.89,  9.41,  8.86,  5.61,  8.98,  8.46,  8.74,\n",
       "        8.56,  7.9 ,  6.6 ,  9.56,  9.96,  8.4 ,  6.66,  7.45,  7.76,\n",
       "        5.16,  5.24,  7.31,  7.76,  5.89,  6.19,  5.47,  9.58,  7.42,\n",
       "        6.23,  8.89,  9.79,  6.3 ,  9.47,  8.79,  8.93,  7.54,  9.58,\n",
       "        5.55])"
      ]
     },
     "execution_count": 23,
     "metadata": {},
     "output_type": "execute_result"
    }
   ],
   "source": [
    "#Rescale both vectors so that they have values between 5 and 10 using your own function\n",
    "\n",
    "def rescale_linear(array, new_min, new_max):\n",
    "    maximum, minimum = np.max(array), np.min(array)\n",
    "    normalized = (array - minimum)/(maximum - minimum) \n",
    "    b = new_max - new_min\n",
    "    return new_min + normalized * b\n",
    "vA_minmax = np.round(rescale_linear(A , 5, 10),2)\n",
    "vA_minmax"
   ]
  },
  {
   "cell_type": "code",
   "execution_count": 24,
   "id": "68e7136d",
   "metadata": {},
   "outputs": [
    {
     "data": {
      "text/plain": [
       "array([ 9.8 ,  6.94,  6.43,  9.23,  5.51,  8.62,  5.87,  6.89,  6.07,\n",
       "        9.18,  6.89,  9.85,  8.11,  8.42,  7.55,  6.48,  6.94,  9.69,\n",
       "        5.92,  9.95,  8.78,  6.73,  8.16,  6.84,  6.84,  7.45,  5.  ,\n",
       "        7.4 ,  9.85,  6.38,  8.72,  7.14,  5.97,  9.54,  5.  ,  6.43,\n",
       "       10.  ,  6.22,  9.23,  8.01,  9.03,  8.11,  6.73,  8.78,  5.05,\n",
       "        7.19,  6.79,  7.35,  5.56,  6.02,  7.76,  6.89,  8.93,  8.01,\n",
       "        9.29,  8.62,  7.96,  6.38,  8.88,  6.17,  5.31,  9.8 ,  7.65,\n",
       "        8.83,  7.6 ,  8.01,  5.05,  5.87,  8.32,  7.81,  5.71,  9.74,\n",
       "        5.66,  7.5 ,  5.61,  8.57,  6.33,  5.56,  5.15,  5.77,  5.87,\n",
       "        7.65,  7.19,  9.8 ,  9.74,  8.98,  8.32,  9.23,  9.69,  5.  ,\n",
       "        5.51,  6.73,  5.36,  7.96,  6.22,  6.22,  6.38,  5.41,  8.67,\n",
       "        8.21])"
      ]
     },
     "execution_count": 24,
     "metadata": {},
     "output_type": "execute_result"
    }
   ],
   "source": [
    "vB_minmax = np.round(rescale_linear(B , 5, 10),2)\n",
    "vB_minmax"
   ]
  },
  {
   "cell_type": "code",
   "execution_count": 44,
   "id": "0b108034",
   "metadata": {},
   "outputs": [
    {
     "data": {
      "text/plain": [
       "-0.0989"
      ]
     },
     "execution_count": 44,
     "metadata": {},
     "output_type": "execute_result"
    }
   ],
   "source": [
    "#Compute the Pearson Correlation Coefficient between the rescaled vectors A and B using \n",
    "# only the basic operators provided by the NumPy\n",
    "media_A = np.sum(vA_minmax)/ len(vA_minmax)\n",
    "media_B = np.sum(vB_minmax) / len(vB_minmax)\n",
    "\n",
    "r = np.round(np.sum((vA_minmax - media_A)*(vB_minmax - media_B))/np.sqrt(np.sum((vA_minmax - media_A)**2)*np.sum((vB_minmax - media_B)**2)), 5)\n",
    "r"
   ]
  },
  {
   "cell_type": "code",
   "execution_count": 45,
   "id": "4b984e94",
   "metadata": {},
   "outputs": [
    {
     "data": {
      "text/plain": [
       "-0.0989"
      ]
     },
     "execution_count": 45,
     "metadata": {},
     "output_type": "execute_result"
    }
   ],
   "source": [
    "from scipy.stats import pearsonr\n",
    "corr, _ = np.round(pearsonr(vA_minmax, vB_minmax),5)\n",
    "corr"
   ]
  },
  {
   "cell_type": "code",
   "execution_count": 46,
   "id": "612fcabb",
   "metadata": {},
   "outputs": [
    {
     "data": {
      "text/plain": [
       "0.0"
      ]
     },
     "execution_count": 46,
     "metadata": {},
     "output_type": "execute_result"
    }
   ],
   "source": [
    "# Nesse exemplo, não houve diferença entre as correlações calculadas pelo metodo da biblioteca scipy.stats e o usando operações básicas\n",
    "diff = corr - r\n",
    "diff"
   ]
  },
  {
   "cell_type": "code",
   "execution_count": 47,
   "id": "8517ea15",
   "metadata": {},
   "outputs": [
    {
     "data": {
      "text/plain": [
       "-0.09857"
      ]
     },
     "execution_count": 47,
     "metadata": {},
     "output_type": "execute_result"
    }
   ],
   "source": [
    "#Verify if the correlation is different when considering the original vectors without rescaling\n",
    "media_A = np.sum(A)/len(A)\n",
    "media_B = np.sum(B)/len(B)\n",
    "r = np.round(np.sum((A - media_A)*(B - media_B))/np.sqrt(np.sum((A - media_A)**2)*np.sum((B - media_B)**2)),5)\n",
    "r"
   ]
  },
  {
   "cell_type": "code",
   "execution_count": 48,
   "id": "55be7453",
   "metadata": {},
   "outputs": [
    {
     "data": {
      "text/plain": [
       "-0.09857"
      ]
     },
     "execution_count": 48,
     "metadata": {},
     "output_type": "execute_result"
    }
   ],
   "source": [
    "from scipy.stats import pearsonr\n",
    "corr, _ = np.round(pearsonr(A, B),5)\n",
    "corr"
   ]
  },
  {
   "cell_type": "code",
   "execution_count": 49,
   "id": "3ba5b424",
   "metadata": {},
   "outputs": [
    {
     "data": {
      "text/plain": [
       "0.0"
      ]
     },
     "execution_count": 49,
     "metadata": {},
     "output_type": "execute_result"
    }
   ],
   "source": [
    "diff = corr - r\n",
    "diff"
   ]
  },
  {
   "cell_type": "code",
   "execution_count": null,
   "id": "c7419ba5",
   "metadata": {},
   "outputs": [],
   "source": [
    "#A correlação dos vetores se mantem similar quando usando os vetores orignais. \n",
    "# O que é esperando, já que a reescala do vetor não deve mudar seu comportamento original, apenas trata os dados para que sua magnetude fique dentro de um range predeterminado.\n",
    "# Portanto a reescalava não deve mudar a correlação de pearson entre os dois vetores, que nesse caso se manteve \"Strongly negative\" "
   ]
  }
 ],
 "metadata": {
  "kernelspec": {
   "display_name": "Python 3 (ipykernel)",
   "language": "python",
   "name": "python3"
  },
  "language_info": {
   "codemirror_mode": {
    "name": "ipython",
    "version": 3
   },
   "file_extension": ".py",
   "mimetype": "text/x-python",
   "name": "python",
   "nbconvert_exporter": "python",
   "pygments_lexer": "ipython3",
   "version": "3.11.4"
  }
 },
 "nbformat": 4,
 "nbformat_minor": 5
}
